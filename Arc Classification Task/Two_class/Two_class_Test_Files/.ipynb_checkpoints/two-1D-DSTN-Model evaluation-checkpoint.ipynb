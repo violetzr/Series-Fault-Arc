{
 "cells": [
  {
   "cell_type": "markdown",
   "id": "5ad4bc19",
   "metadata": {},
   "source": [
    "# 1准备数据"
   ]
  },
  {
   "cell_type": "code",
   "execution_count": 1,
   "id": "d686ce7c",
   "metadata": {},
   "outputs": [],
   "source": [
    "import numpy as np \n",
    "import pandas as pd \n",
    "from sklearn.model_selection import train_test_split\n",
    "from pprint import pprint\n",
    "from matplotlib import pyplot as plt\n",
    "import torch\n",
    "from torch import nn\n",
    "import torch.nn.functional as F\n",
    "from scipy.signal import savgol_filter #滤波\n",
    "from sklearn.preprocessing import MinMaxScaler  \n",
    "from torch.utils.data import Dataset,DataLoader\n",
    "import torchkeras "
   ]
  },
  {
   "cell_type": "code",
   "execution_count": 2,
   "id": "02563f49",
   "metadata": {},
   "outputs": [],
   "source": [
    "from argparse import Namespace\n",
    "config = Namespace(\n",
    "    batch_size = 128,\n",
    "    dropout_p = 0.3,\n",
    "    lr = 0.0002,\n",
    "    optim_type = 'Adam',\n",
    "    epochs = 200,\n",
    "    ckpt_path = 'checkpoint',\n",
    "    num_workers=0,\n",
    "    name='transCNN-transformer',\n",
    "    input_dim = 625,  # 转置卷积的输出维度\n",
    "    feedforward=128,\n",
    "    embed_dim = 64,  # 嵌入维度\n",
    "    num_heads = 4,  # 注意力头数\n",
    "    num_layers = 2,  # Transformer 编码器的层数\n",
    "    num_classes = 1,  # 分类类别数\n",
    "    max_len = 5000  # 输入的最大序列长度\n",
    ")"
   ]
  },
  {
   "cell_type": "code",
   "execution_count": 3,
   "id": "375ed72f",
   "metadata": {},
   "outputs": [],
   "source": [
    "\n",
    "torch.manual_seed(17) #cpu\n",
    "torch.cuda.manual_seed(17) #gpu\n",
    "np.random.seed(17) #numpy"
   ]
  },
  {
   "cell_type": "code",
   "execution_count": 4,
   "id": "d4d84fe1",
   "metadata": {},
   "outputs": [],
   "source": [
    "class MyDataset(Dataset):\n",
    "    def __init__(self,filepath):\n",
    "        self.alldata=pd.read_csv(filepath,header=None)\n",
    "        self.len=self.alldata.shape[0]\n",
    "        self.alldata=np.array(self.alldata,dtype='float32')\n",
    "        self.xdata=torch.from_numpy(self.alldata[:,0:-2])\n",
    "        self.ydata=torch.from_numpy(self.alldata[:,[-2]])##二分类\n",
    "    def __getitem__(self,index):\n",
    "        xx=self.xdata[index]\n",
    "        lb=savgol_filter(xx, window_length=7, polyorder=2)#Savitzky-Golay 平滑滤波器\n",
    "        scaler=MinMaxScaler()\n",
    "        lb=lb.reshape(-1,1)\n",
    "        lb=scaler.fit_transform(lb)#层归一化\n",
    "        lb=lb.reshape(1,-1)\n",
    "        return lb,self.ydata[index]\n",
    "    def __len__(self):\n",
    "        return self.len\n",
    "# 、、、、、、、、、、、、、、、、、、、、\n",
    "file_path = \"../alldata.csv\"\n",
    "dfdata = MyDataset(file_path)"
   ]
  },
  {
   "cell_type": "code",
   "execution_count": 5,
   "id": "03a2be6f",
   "metadata": {},
   "outputs": [],
   "source": [
    "\n",
    "temp_b= torch.mean(dfdata.xdata, dim=0)\n",
    "temp_c=torch.std(dfdata.xdata, dim=0)\n",
    "dfdata.xdata= (dfdata.xdata- temp_b) / temp_c\n",
    "dftmp, dftest_raw = train_test_split(dfdata, random_state=40, test_size=0.1)\n",
    "dftrain_raw, dfval_raw = train_test_split(dftmp, random_state=40, test_size=0.2)\n",
    "\n"
   ]
  },
  {
   "cell_type": "code",
   "execution_count": 7,
   "id": "08b0b19b",
   "metadata": {},
   "outputs": [],
   "source": [
    "#dataloader\n",
    "dl_train =DataLoader(dftrain_raw, batch_size=config.batch_size, shuffle=True, num_workers=config.num_workers)\n",
    "dl_val =DataLoader(dfval_raw, batch_size=config.batch_size, shuffle=False, num_workers=config.num_workers)\n",
    "dl_test =DataLoader(dftest_raw, batch_size=config.batch_size, shuffle=False, num_workers=config.num_workers)"
   ]
  },
  {
   "cell_type": "code",
   "execution_count": 8,
   "id": "ca7c2f37",
   "metadata": {},
   "outputs": [
    {
     "name": "stdout",
     "output_type": "stream",
     "text": [
      "torch.Size([128, 1, 5000])\n",
      "torch.Size([128, 1])\n",
      "150\n"
     ]
    }
   ],
   "source": [
    "for features,labels in dl_val:\n",
    "    break\n",
    "print(features.shape)\n",
    "print(labels.shape)\n",
    "print(dl_train.__len__())"
   ]
  },
  {
   "cell_type": "code",
   "execution_count": 9,
   "id": "64f6577d",
   "metadata": {},
   "outputs": [],
   "source": [
    "# windows操作系统\n",
    "plt.rcParams['font.sans-serif']=['SimHei']  # 用来正常显示中文标签 \n",
    "plt.rcParams['axes.unicode_minus']=False  # 用来正常显示负号"
   ]
  },
  {
   "cell_type": "markdown",
   "id": "6c7963f8",
   "metadata": {},
   "source": [
    "# 创建模型"
   ]
  },
  {
   "cell_type": "code",
   "execution_count": 17,
   "id": "c34f0bae",
   "metadata": {},
   "outputs": [],
   "source": [
    "import torch\n",
    "import torch.nn as nn\n",
    "import math\n",
    "class DepthwiseSeparableConv1D(nn.Module):\n",
    "    def __init__(self, in_channels, out_channels, kernel_size):\n",
    "        super(DepthwiseSeparableConv1D, self).__init__()\n",
    "        self.depthwise = nn.Conv1d(in_channels, in_channels, kernel_size=kernel_size, \n",
    "                                   groups=in_channels, padding=kernel_size//2)\n",
    "        self.pointwise = nn.Conv1d(in_channels, out_channels, kernel_size=1)\n",
    "\n",
    "    def forward(self, x):\n",
    "        x = self.depthwise(x)\n",
    "        x = self.pointwise(x)\n",
    "        return x\n",
    "class TimeSeriesTransformer(nn.Module):\n",
    "    def __init__(self, input_dim, embed_dim, num_heads, num_layers, num_classes,feedforward, max_len=5000,dropout=0):\n",
    "        super(TimeSeriesTransformer, self).__init__()\n",
    "       #深度可分离卷积降维\n",
    "        self.conv1=DepthwiseSeparableConv1D(in_channels=1,out_channels=32,kernel_size = 11)\n",
    "        self.relu=nn.ReLU()\n",
    "        self.maxpool= nn.MaxPool1d(2)#等价于nn.MaxPool1d(kernel_size=2, stride=2)\n",
    "        self.conv2=DepthwiseSeparableConv1D(in_channels=32,out_channels=64,kernel_size = 21)\n",
    "        self.conv3=DepthwiseSeparableConv1D(in_channels=64,out_channels=128,kernel_size = 41)\n",
    "         # 线性投影层，将输入数据5000映射到 embed_dim 维度\n",
    "        self.embedding = nn.Linear(input_dim, embed_dim)\n",
    "        \n",
    "        # 位置编码\n",
    "        self.pos_encoder = PositionalEncoding(embed_dim, max_len)\n",
    "        \n",
    "        # Transformer 编码器层\n",
    "        encoder_layer = nn.TransformerEncoderLayer(d_model=embed_dim, nhead=num_heads,\n",
    "                                                   dim_feedforward=feedforward, dropout=dropout)\n",
    "        self.transformer_encoder = nn.TransformerEncoder(encoder_layer, num_layers)\n",
    "        \n",
    "        # 全局池化（或者可以选用 [CLS] token 表示）\n",
    "        self.global_avg_pool = nn.AdaptiveAvgPool1d(1)\n",
    "        \n",
    "        # 最终分类层\n",
    "        self.fc = nn.Linear(embed_dim, num_classes)\n",
    "    \n",
    "    def forward(self, x):\n",
    "#         x = x.permute(0, 2, 1)\n",
    "        #转置卷积forward\n",
    "        x=self.conv1(x)\n",
    "        x=self.relu(x)\n",
    "        x=self.maxpool(x)\n",
    "        \n",
    "        x=self.conv2(x)\n",
    "        x=self.relu(x)\n",
    "        x=self.maxpool(x)\n",
    "        \n",
    "        x=self.conv3(x)\n",
    "        x=self.relu(x)\n",
    "        x=self.maxpool(x)\n",
    "        # print(x.shape)\n",
    "        # 输入 x 的形状：[batch_size, seq_len, input_dim]\n",
    "        x = self.embedding(x)  # 形状变为：[batch_size, seq_len, embed_dim]\n",
    "        x = self.pos_encoder(x)  # 添加位置编码\n",
    "        x = x.permute(1, 0, 2)  # Transformer 期望的输入形状：[seq_len, batch_size, embed_dim]\n",
    "        \n",
    "        # 通过 Transformer 编码器\n",
    "        x = self.transformer_encoder(x)  # 输出形状：[seq_len, batch_size, embed_dim]\n",
    "        x = x.permute(1, 2, 0)  # 调整形状为：[batch_size, embed_dim, seq_len]\n",
    "        \n",
    "        # 全局平均池化\n",
    "        x = self.global_avg_pool(x).squeeze(-1)  # 形状变为：[batch_size, embed_dim]\n",
    "        \n",
    "        # 全连接分类层\n",
    "        x = self.fc(x)  # 输出形状：[batch_size, num_classes]\n",
    "        return x\n",
    "\n",
    "class PositionalEncoding(nn.Module):\n",
    "    def __init__(self, embed_dim, max_len=5000):\n",
    "        super(PositionalEncoding, self).__init__()\n",
    "        pe = torch.zeros(max_len, embed_dim)\n",
    "        position = torch.arange(0, max_len, dtype=torch.float).unsqueeze(1)\n",
    "        div_term = torch.exp(torch.arange(0, embed_dim, 2).float() * (-math.log(10000.0) / embed_dim))\n",
    "        pe[:, 0::2] = torch.sin(position * div_term)\n",
    "        pe[:, 1::2] = torch.cos(position * div_term)\n",
    "        pe = pe.unsqueeze(0)  # [1, max_len, embed_dim]\n",
    "        self.register_buffer('pe', pe)\n",
    "\n",
    "    def forward(self, x):\n",
    "        return x + self.pe[:, :x.size(1), :]  # 加上位置编码"
   ]
  },
  {
   "cell_type": "code",
   "execution_count": 18,
   "id": "6c7a05af",
   "metadata": {},
   "outputs": [],
   "source": [
    "class AUC(nn.Module):\n",
    "    'approximate AUC calculation for binary-classification task'\n",
    "    def __init__(self):\n",
    "        super().__init__()\n",
    "        self.tp = nn.Parameter(torch.zeros(10001),requires_grad=False)\n",
    "        self.fp = nn.Parameter(torch.zeros(10001),requires_grad=False)\n",
    "        \n",
    "    def eval_auc(self,tp,fp):\n",
    "        tp_total = torch.sum(tp)\n",
    "        fp_total = torch.sum(fp)\n",
    "        length = len(tp)\n",
    "        tp_reverse = tp[range(length-1,-1,-1)]\n",
    "        tp_reverse_cum = torch.cumsum(tp_reverse,dim=0)-tp_reverse/2.0\n",
    "        fp_reverse = fp[range(length-1,-1,-1)]\n",
    "        \n",
    "        auc = torch.sum(torch.true_divide(tp_reverse_cum,tp_total)\n",
    "                        *torch.true_divide(fp_reverse,fp_total))\n",
    "        return auc\n",
    "        \n",
    "    def forward(self, preds: torch.Tensor, targets: torch.Tensor):\n",
    "        y_pred = (10000*torch.sigmoid(preds)).reshape(-1).type(torch.int)\n",
    "        y_true = targets.reshape(-1)\n",
    "        \n",
    "        tpi = self.tp-self.tp\n",
    "        fpi = self.fp-self.fp\n",
    "        assert y_pred.shape == y_true.shape\n",
    "        for i,label in enumerate(y_true):\n",
    "            if label>=0.5:\n",
    "                tpi[y_pred[i]]+=1.0\n",
    "            else:\n",
    "                fpi[y_pred[i]]+=1.0\n",
    "        self.tp+=tpi\n",
    "        self.fp+=fpi\n",
    "        return self.eval_auc(tpi,fpi)\n",
    "          \n",
    "    def compute(self):\n",
    "        return self.eval_auc(self.tp,self.fp)\n",
    "    \n",
    "    def reset(self):\n",
    "        self.tp-=self.tp\n",
    "        self.fp-=self.fp"
   ]
  },
  {
   "cell_type": "code",
   "execution_count": 19,
   "id": "81a013bc",
   "metadata": {},
   "outputs": [
    {
     "name": "stdout",
     "output_type": "stream",
     "text": [
      "--------------------------------------------------------------------------\n",
      "Layer (type)                            Output Shape              Param #\n",
      "==========================================================================\n",
      "Conv1d-1                               [-1, 1, 5000]                   12\n",
      "Conv1d-2                              [-1, 32, 5000]                   64\n",
      "ReLU-3                                [-1, 32, 5000]                    0\n",
      "MaxPool1d-4                           [-1, 32, 2500]                    0\n",
      "Conv1d-5                              [-1, 32, 2500]                  704\n",
      "Conv1d-6                              [-1, 64, 2500]                2,112\n",
      "ReLU-7                                [-1, 64, 2500]                    0\n",
      "MaxPool1d-8                           [-1, 64, 1250]                    0\n",
      "Conv1d-9                              [-1, 64, 1250]                2,688\n",
      "Conv1d-10                            [-1, 128, 1250]                8,320\n",
      "ReLU-11                              [-1, 128, 1250]                    0\n",
      "MaxPool1d-12                          [-1, 128, 625]                    0\n",
      "Linear-13                              [-1, 128, 64]               40,064\n",
      "PositionalEncoding-14                  [-1, 128, 64]                    0\n",
      "MultiheadAttention-15                  [-1, 128, 64]               16,640\n",
      "Dropout-16                             [-1, 128, 64]                    0\n",
      "LayerNorm-17                           [-1, 128, 64]                  128\n",
      "Linear-18                             [-1, 128, 128]                8,320\n",
      "Dropout-19                            [-1, 128, 128]                    0\n",
      "Linear-20                              [-1, 128, 64]                8,256\n",
      "Dropout-21                             [-1, 128, 64]                    0\n",
      "LayerNorm-22                           [-1, 128, 64]                  128\n",
      "MultiheadAttention-23                  [-1, 128, 64]               16,640\n",
      "Dropout-24                             [-1, 128, 64]                    0\n",
      "LayerNorm-25                           [-1, 128, 64]                  128\n",
      "Linear-26                             [-1, 128, 128]                8,320\n",
      "Dropout-27                            [-1, 128, 128]                    0\n",
      "Linear-28                              [-1, 128, 64]                8,256\n",
      "Dropout-29                             [-1, 128, 64]                    0\n",
      "LayerNorm-30                           [-1, 128, 64]                  128\n",
      "AdaptiveAvgPool1d-31                     [-1, 64, 1]                    0\n",
      "Linear-32                                    [-1, 1]                   65\n",
      "==========================================================================\n",
      "Total params: 120,973\n",
      "Trainable params: 120,973\n",
      "Non-trainable params: 0\n",
      "--------------------------------------------------------------------------\n",
      "Input size (MB): 0.000069\n",
      "Forward/backward pass size (MB): 11.789619\n",
      "Params size (MB): 0.461475\n",
      "Estimated Total Size (MB): 12.251163\n",
      "--------------------------------------------------------------------------\n"
     ]
    }
   ],
   "source": [
    "net = TimeSeriesTransformer(config.input_dim, config.embed_dim, config.num_heads, \n",
    "                            config.num_layers, config.num_classes,config.feedforward, config.max_len,config.dropout_p)\n",
    "from torchkeras import summary\n",
    "\n",
    "summary(net,input_data=features);"
   ]
  },
  {
   "cell_type": "markdown",
   "id": "52ee8423",
   "metadata": {},
   "source": [
    "# 训练集、测试集评估"
   ]
  },
  {
   "cell_type": "markdown",
   "id": "a26827df",
   "metadata": {},
   "source": [
    "# 验证集参数计算"
   ]
  },
  {
   "cell_type": "code",
   "execution_count": 20,
   "id": "67c0a7e4",
   "metadata": {},
   "outputs": [
    {
     "data": {
      "text/plain": [
       "<All keys matched successfully>"
      ]
     },
     "execution_count": 20,
     "metadata": {},
     "output_type": "execute_result"
    }
   ],
   "source": [
    "#加载网络\n",
    "net2 =TimeSeriesTransformer(config.input_dim, config.embed_dim, config.num_heads, \n",
    "                            config.num_layers, config.num_classes,config.feedforward, config.max_len,config.dropout_p)\n",
    "net2.load_state_dict(torch.load('checkpoint_two_transformer'))"
   ]
  },
  {
   "cell_type": "markdown",
   "id": "e0bde50b",
   "metadata": {},
   "source": [
    "support：当前行的类别在测试数据中的样本总量，如上表就是，在class 0 类别在测试集中总数量为1；<br>\n",
    "precision：精度=正确预测的个数(TP)/被预测正确的个数(TP+FP)；人话也就是模型预测的结果中有多少是预测正确的<br>\n",
    "ecall:召回率=正确预测的个数(TP)/预测个数(TP+FN)；人话也就是某个类别测试集中的总量，有多少样本预测正确了；<br>\n",
    "f1-score:F1 = 2*精度*召回率/(精度+召回率)<br>\n",
    "micro avg：计算所有数据下的指标值，假设全部数据 5 个样本中有 3 个预测正确，所以 micro avg 为 3/5=0.6<br>\n",
    "macro avg：每个类别评估指标未加权的平均值，比如准确率的 macro avg，(0.50+0.00+1.00)/3=0.5<br>\n",
    "weighted avg：加权平均，就是测试集中样本量大的，给他设置的权重大点；比如第一个值的计算方法，(0.50*1 + 0.0*1 + 1.0*3)/5 = 0.70。更好点"
   ]
  },
  {
   "cell_type": "code",
   "execution_count": null,
   "id": "05dfe55d",
   "metadata": {},
   "outputs": [],
   "source": [
    "from torchkeras import KerasModel \n",
    "from torchkeras.metrics import Accuracy\n",
    "from torchkeras.metrics import Precision\n",
    "from torchkeras.metrics import Recall\n",
    "\n",
    "# from torchkeras.kerascallbacks import WandbCallback\n",
    "\n",
    "loss_fn = nn.BCEWithLogitsLoss()\n",
    "optimizer= torch.optim.Adam(net2.parameters(),lr=config.lr)\n",
    "metric_dict = {\"acc\":Accuracy(),\"pre\":Precision(),\"recall\":Recall(),\"auc\":AUC()}\n",
    "model = KerasModel(net2,\n",
    "                   loss_fn = loss_fn,\n",
    "                   metrics_dict= metric_dict,\n",
    "                   optimizer = optimizer\n",
    "                  )   \n",
    "\n"
   ]
  },
  {
   "cell_type": "code",
   "execution_count": null,
   "id": "4d6e28f3",
   "metadata": {},
   "outputs": [],
   "source": [
    "model.evaluate(dl_test)"
   ]
  },
  {
   "cell_type": "markdown",
   "id": "d9f40fda",
   "metadata": {},
   "source": [
    "# 评估矩阵"
   ]
  },
  {
   "cell_type": "code",
   "execution_count": 21,
   "id": "63ce4944",
   "metadata": {
    "scrolled": true
   },
   "outputs": [
    {
     "name": "stderr",
     "output_type": "stream",
     "text": [
      "100%|██████████████████████████████████████████████████████████████████████████████████| 21/21 [00:20<00:00,  1.02it/s]"
     ]
    },
    {
     "name": "stdout",
     "output_type": "stream",
     "text": [
      "2660\n",
      "2660\n",
      "              precision    recall  f1-score   support\n",
      "\n",
      "         0.0       0.98      0.99      0.98      1371\n",
      "         1.0       0.99      0.97      0.98      1289\n",
      "\n",
      "    accuracy                           0.98      2660\n",
      "   macro avg       0.98      0.98      0.98      2660\n",
      "weighted avg       0.98      0.98      0.98      2660\n",
      "\n"
     ]
    },
    {
     "name": "stderr",
     "output_type": "stream",
     "text": [
      "\n"
     ]
    }
   ],
   "source": [
    "from tqdm import tqdm \n",
    "from sklearn.metrics import classification_report\n",
    "net2 = net2.cpu()\n",
    "net2.eval()\n",
    "preds = []\n",
    "believer=[]\n",
    "believer2=[]\n",
    "ytrue=[]\n",
    "with torch.no_grad():\n",
    "    for batch in tqdm(dl_test):\n",
    "#         preds.append(net(batch))\n",
    "        inputs,labels=batch\n",
    "        x=F.sigmoid(net2(inputs))\n",
    "#         print(x)\n",
    "        believer2.extend(x.tolist())\n",
    "        x=torch.where(x > 0.5, torch.ones_like(x),torch.zeros_like(x))\n",
    "        believer.extend(x.squeeze(1).tolist())\n",
    "        preds.extend(x.squeeze(1).tolist())\n",
    "        ytrue.extend(labels.squeeze(1).tolist())\n",
    "    pprint(len(preds)) \n",
    "    pprint(len(ytrue))\n",
    "#     pprint(preds) \n",
    "#     pprint(yhat)\n",
    "print(classification_report(ytrue,preds))"
   ]
  },
  {
   "cell_type": "code",
   "execution_count": 22,
   "id": "bce993c8",
   "metadata": {},
   "outputs": [
    {
     "name": "stdout",
     "output_type": "stream",
     "text": [
      "        Predicted 0  Predicted 1\n",
      "True 0         1358           13\n",
      "True 1           33         1256\n",
      "array([[1358,   13],\n",
      "       [  33, 1256]], dtype=int64)\n"
     ]
    }
   ],
   "source": [
    "import seaborn as sns\n",
    "from sklearn.metrics import confusion_matrix\n",
    "\n",
    "# 计算混淆矩阵\n",
    "cm = confusion_matrix(ytrue,preds)\n",
    "# 将混淆矩阵转换为DataFrame\n",
    "df_cm = pd.DataFrame(cm, index=['True {}'.format(i) for i in range(cm.shape[0])],columns=['Predicted {}'.format(i) for i in range(cm.shape[1])])\n",
    "pprint(df_cm)\n",
    "pprint(cm)\n"
   ]
  },
  {
   "cell_type": "code",
   "execution_count": 23,
   "id": "cb2b94cb",
   "metadata": {},
   "outputs": [
    {
     "data": {
      "image/png": "[encoded data removed]",
      "text/plain": [
       "<Figure size 500x500 with 2 Axes>"
      ]
     },
     "metadata": {},
     "output_type": "display_data"
    }
   ],
   "source": [
    "#2# 使用matplotlib\n",
    "plt.figure(figsize=(5, 5))\n",
    "ax=plt.matshow(cm , cmap=plt.cm.Blues,fignum=1, aspect='auto') \n",
    "cbar=plt.colorbar(ax, fraction=0.05, pad=0.04)\n",
    "cbar.ax.tick_params(labelsize=13)\n",
    "for i in range(len(cm )): \n",
    "    for j in range(len(cm )):\n",
    "        plt.annotate(cm [i,j], xy=(i, j), horizontalalignment='center', verticalalignment='center',fontsize=20)\n",
    "plt.ylabel('真实值标签',fontsize=15)\n",
    "plt.xlabel('预测值标签',fontsize=15) \n",
    "plt.show()"
   ]
  },
  {
   "cell_type": "markdown",
   "id": "d0eab2a6",
   "metadata": {},
   "source": [
    "pr曲线"
   ]
  },
  {
   "cell_type": "code",
   "execution_count": 25,
   "id": "fdd08077",
   "metadata": {},
   "outputs": [
    {
     "data": {
      "text/plain": [
       "<matplotlib.legend.Legend at 0x26cac114c70>"
      ]
     },
     "execution_count": 25,
     "metadata": {},
     "output_type": "execute_result"
    },
    {
     "data": {
      "image/png": "[encoded data removed]",
      "text/plain": [
       "<Figure size 800x500 with 1 Axes>"
      ]
     },
     "metadata": {},
     "output_type": "display_data"
    }
   ],
   "source": [
    "from sklearn.metrics import precision_recall_curve\n",
    "\n",
    "precision, recall, threshold = precision_recall_curve(ytrue, b3)\n",
    "fig = plt.figure(figsize=(8, 5))\n",
    "plt.plot(precision, recall, label='label:1')\n",
    "\n",
    "plt.xlabel('召回率', fontsize=17)\n",
    "plt.ylabel('精确率', fontsize=17)\n",
    "plt.tick_params(axis='both', labelsize=15)\n",
    "plt.legend(fontsize=15)"
   ]
  },
  {
   "cell_type": "code",
   "execution_count": null,
   "id": "c97201e6",
   "metadata": {},
   "outputs": [],
   "source": [
    "#PR\n",
    "import math\n",
    "result_matrix = [[math.exp(element) for element in row] for row in believer2] \n"
   ]
  },
  {
   "cell_type": "code",
   "execution_count": null,
   "id": "a8477bc2",
   "metadata": {},
   "outputs": [],
   "source": [
    "# 1二分类标注\n",
    "# # df = pd.DataFrame()\n",
    "tempp=np.array(ytrue)\n",
    "y_test =(tempp==0)\n",
    "# #2二分类预测置信度\n",
    "tempr=np.array(believer2)\n",
    "y_score = tempr[:,0]\n",
    "print(y_score)\n",
    "# #3计算ap\n",
    "# from sklearn.metrics import precision_recall_curve\n",
    "# from sklearn.metrics import average_precision_score\n",
    "precision, recall, thresholds = precision_recall_curve(ytrue, y_score)\n",
    "AP = average_precision_score(y_test, y_score, average='weighted')\n",
    "AP"
   ]
  },
  {
   "cell_type": "code",
   "execution_count": null,
   "id": "cccfab2c",
   "metadata": {},
   "outputs": [],
   "source": [
    "#4计算auc\n",
    "# from sklearn.metrics import roc_curve, auc\n",
    "# fpr, tpr, threshold = roc_curve(y_test, y_score)"
   ]
  },
  {
   "cell_type": "code",
   "execution_count": 27,
   "id": "7c18a07c",
   "metadata": {},
   "outputs": [],
   "source": [
    "from matplotlib import colors as mcolors\n",
    "import random\n",
    "random.seed(124)\n",
    "colors = ['b', 'g', 'r', 'c', 'm', 'y', 'k', 'tab:blue', 'tab:orange', 'tab:green', 'tab:red', 'tab:purple', 'tab:brown', 'tab:pink', 'tab:gray', 'tab:olive', 'tab:cyan', 'black', 'indianred', 'brown', 'firebrick', 'maroon', 'darkred', 'red', 'sienna', 'chocolate', 'yellow', 'olivedrab', 'yellowgreen', 'darkolivegreen', 'forestgreen', 'limegreen', 'darkgreen', 'green', 'lime', 'seagreen', 'mediumseagreen', 'darkslategray', 'darkslategrey', 'teal', 'darkcyan', 'dodgerblue', 'navy', 'darkblue', 'mediumblue', 'blue', 'slateblue', 'darkslateblue', 'mediumslateblue', 'mediumpurple', 'rebeccapurple', 'blueviolet', 'indigo', 'darkorchid', 'darkviolet', 'mediumorchid', 'purple', 'darkmagenta', 'fuchsia', 'magenta', 'orchid', 'mediumvioletred', 'deeppink', 'hotpink']\n",
    "markers = [\".\",\",\",\"o\",\"v\",\"^\",\"<\",\">\",\"1\",\"2\",\"3\",\"4\",\"8\",\"s\",\"p\",\"P\",\"*\",\"h\",\"H\",\"+\",\"x\",\"X\",\"D\",\"d\",\"|\",\"_\",0,1,2,3,4,5,6,7,8,9,10,11]\n",
    "linestyle = ['--', '-.', '-']\n",
    "def get_line_arg():\n",
    "    '''\n",
    "    随机产生一种绘图线型\n",
    "    '''\n",
    "    line_arg = {}\n",
    "    line_arg['color'] = random.choice(colors)\n",
    "    # line_arg['marker'] = random.choice(markers)\n",
    "    line_arg['linestyle'] = random.choice(linestyle)\n",
    "    line_arg['linewidth'] = random.randint(1, 4)\n",
    "    # line_arg['markersize'] = random.randint(3, 5)\n",
    "    return line_arg"
   ]
  },
  {
   "cell_type": "code",
   "execution_count": 28,
   "id": "b6bd17b7",
   "metadata": {},
   "outputs": [
    {
     "data": {
      "text/plain": [
       "{'color': 'seagreen', 'linestyle': '-', 'linewidth': 1}"
      ]
     },
     "execution_count": 28,
     "metadata": {},
     "output_type": "execute_result"
    }
   ],
   "source": [
    "get_line_arg()"
   ]
  },
  {
   "cell_type": "code",
   "execution_count": 29,
   "id": "1d6c240d",
   "metadata": {},
   "outputs": [],
   "source": [
    "from sklearn.metrics import roc_curve, auc\n",
    "classes=[0,1]\n"
   ]
  },
  {
   "cell_type": "code",
   "execution_count": 32,
   "id": "43bf138b",
   "metadata": {},
   "outputs": [
    {
     "data": {
      "image/png": "[encoded data removed]",
      "text/plain": [
       "<Figure size 800x500 with 1 Axes>"
      ]
     },
     "metadata": {},
     "output_type": "display_data"
    }
   ],
   "source": [
    "plt.figure(figsize=(8, 5))\n",
    "plt.xlim([-0.01, 1.0])\n",
    "plt.ylim([0.0, 1.01])\n",
    "# plt.plot([0, 1], [0, 1],ls=\"--\", c='.3', linewidth=3, label='随机模型')\n",
    "# plt.xlabel('False Positive Rate (1 - Specificity)')\n",
    "# plt.ylabel('True Positive Rate (Sensitivity)')\n",
    "plt.xlabel('假正率',fontsize=17)\n",
    "plt.ylabel('真正率',fontsize=17)\n",
    "plt.tick_params(axis='both', labelsize=15)\n",
    "plt.rcParams['font.size'] = 22\n",
    "# plt.grid(True)\n",
    "\n",
    "auc_list = []\n",
    "# for each_class in classes:\n",
    "#     y_test = list((tempp == each_class))\n",
    "#     y_score = list(tempr[:,each_class])\n",
    "#     fpr, tpr, threshold = roc_curve(y_test, y_score)\n",
    "#     plt.plot(fpr, tpr, **get_line_arg(), label='class'+str(each_class))\n",
    "#     plt.legend()\n",
    "#     auc_list.append(auc(fpr, tpr))\n",
    "fpr, tpr, threshold = roc_curve(ytrue,believer2)\n",
    "plt.plot(fpr, tpr, label='label:1')\n",
    "# plt.legend(loc = 'lower right')\n",
    "auc_list.append(auc(fpr, tpr))\n",
    "plt.legend(loc='lower right', fontsize=15)\n",
    "plt.savefig('各类别ROC曲线.jpg'.format(), dpi=120, bbox_inches='tight')\n",
    "plt.show()"
   ]
  },
  {
   "cell_type": "code",
   "execution_count": null,
   "id": "d1a43d48",
   "metadata": {},
   "outputs": [],
   "source": [
    "from sklearn.metrics import roc_curve, auc\n",
    "auc(fpr, tpr)"
   ]
  },
  {
   "cell_type": "code",
   "execution_count": null,
   "id": "a10757e9",
   "metadata": {},
   "outputs": [],
   "source": [
    "#保存1\n",
    "report=classification_report(ytrue,preds,target_names=classes, output_dict=True)\n",
    "del report['accuracy']\n",
    "df_report = pd.DataFrame(report).transpose()\n",
    "\n",
    "df_report"
   ]
  },
  {
   "cell_type": "code",
   "execution_count": null,
   "id": "1a5fa0f4",
   "metadata": {},
   "outputs": [],
   "source": [
    "auc_list"
   ]
  },
  {
   "cell_type": "code",
   "execution_count": null,
   "id": "eabbba43",
   "metadata": {
    "scrolled": true
   },
   "outputs": [],
   "source": [
    "# 计算 AUC值 的 宏平均 和 加权平均\n",
    "macro_avg_auc = np.mean(auc_list)\n",
    "weighted_avg_auc = sum(auc_list * df_report.iloc[:-2]['support'] / len(ytrue))\n",
    "auc_list.append(macro_avg_auc)\n",
    "auc_list.append(weighted_avg_auc)\n",
    "df_report['AUC'] = auc_list\n",
    "df_report"
   ]
  },
  {
   "cell_type": "code",
   "execution_count": null,
   "id": "17ad7c3c",
   "metadata": {},
   "outputs": [],
   "source": [
    "df_report.to_csv('各类别准确率评估指标.csv', index_label='类别')\n",
    "# df_report.to_csv('各类别准确率评估指标.csv', index=False)"
   ]
  },
  {
   "cell_type": "code",
   "execution_count": null,
   "id": "02b0cc3e",
   "metadata": {},
   "outputs": [],
   "source": []
  },
  {
   "cell_type": "markdown",
   "id": "33e9d9f8",
   "metadata": {},
   "source": [
    "# kappa"
   ]
  },
  {
   "cell_type": "code",
   "execution_count": null,
   "id": "4fe642ea",
   "metadata": {},
   "outputs": [],
   "source": [
    "from sklearn.metrics import cohen_kappa_score\n",
    "kappa = cohen_kappa_score(ytrue,preds)\n",
    "kappa"
   ]
  },
  {
   "cell_type": "markdown",
   "id": "af1e35b8",
   "metadata": {},
   "source": [
    "# t-sne"
   ]
  },
  {
   "cell_type": "code",
   "execution_count": null,
   "id": "77ff362b",
   "metadata": {},
   "outputs": [],
   "source": [
    "#保存模型.pth文件\n",
    "# torch.save(model,'mycheckpoint/saved1.pth')\n",
    "#加载模型\n",
    "#model=torch.load('mycheckpoint/saved1.pth')"
   ]
  },
  {
   "cell_type": "code",
   "execution_count": null,
   "id": "b8592067",
   "metadata": {},
   "outputs": [],
   "source": [
    "from tqdm import tqdm \n",
    "for batch in tqdm(dl_test):\n",
    "    inputs,labels=batch\n",
    "    print(inputs.shape)"
   ]
  },
  {
   "cell_type": "code",
   "execution_count": null,
   "id": "233f3244",
   "metadata": {
    "scrolled": true
   },
   "outputs": [],
   "source": [
    "#加载网络\n",
    "\n",
    "for name, module in net2.named_modules():\n",
    "    print('modules:', name)"
   ]
  },
  {
   "cell_type": "code",
   "execution_count": null,
   "id": "dd4514a0",
   "metadata": {},
   "outputs": [],
   "source": [
    "net2\n"
   ]
  },
  {
   "cell_type": "code",
   "execution_count": null,
   "id": "59fef9ec",
   "metadata": {},
   "outputs": [],
   "source": [
    "from torchvision.models.feature_extraction import get_graph_node_names\n",
    "\n",
    "train_nodes, eval_nodes = get_graph_node_names(net2)\n",
    "print(\"Train nodes:\", train_nodes)\n",
    "print(\"Eval nodes:\", eval_nodes)"
   ]
  },
  {
   "cell_type": "code",
   "execution_count": null,
   "id": "e013abf1",
   "metadata": {},
   "outputs": [],
   "source": [
    "\n",
    "# #抽取中间层\n",
    "# from torchvision.models.feature_extraction import create_feature_extractor\n",
    "# model_trunc = create_feature_extractor(net2, return_nodes={'global_avg_pool': 'semantic_feature'})"
   ]
  },
  {
   "cell_type": "code",
   "execution_count": null,
   "id": "319d462b",
   "metadata": {},
   "outputs": [],
   "source": [
    "a=torch.randn([1,1,5000])\n",
    "pred_logits = model_trunc(a) \n",
    "pred_logits['semantic_feature'].squeeze().detach().numpy().shape"
   ]
  },
  {
   "cell_type": "code",
   "execution_count": null,
   "id": "773dfda0",
   "metadata": {},
   "outputs": [],
   "source": [
    "from tqdm import tqdm \n",
    "# preds = []\n",
    "# 抽取层的输出维度\n",
    "preds =torch.empty((0, 32))\n",
    "ll=torch.empty(0)\n",
    "# print(preds.shape)\n",
    "for batch in tqdm(dl_test):\n",
    "    inputs,labels=batch\n",
    "#     print(inputs.shape)\n",
    "    for a in inputs:\n",
    "#         print(a.shape)\n",
    "        a=a.unsqueeze(1)\n",
    "#         print(a.shape)\n",
    "        pred_logits=model_trunc(a)\n",
    "        tmp=pred_logits['semantic_feature'].detach()\n",
    "        preds=torch.cat((preds, tmp), dim=0)\n",
    "    ll=torch.cat((ll,labels), dim=0)\n",
    "# preds=torch.tensor(preds)\n",
    "print(preds.shape)\n",
    "print(ll.shape)\n",
    "tsne_in=np.array(preds)\n",
    "ll_in=np.array(ll)"
   ]
  },
  {
   "cell_type": "code",
   "execution_count": null,
   "id": "ff6f567e",
   "metadata": {},
   "outputs": [],
   "source": [
    "# 降维到二维和三维\n",
    "from sklearn.manifold import TSNE\n",
    "tsne = TSNE(n_components=2, init='pca', random_state=1)\n",
    "X_tsne_2d = tsne.fit_transform(tsne_in)\n",
    "print(X_tsne_2d.shape)"
   ]
  },
  {
   "cell_type": "code",
   "execution_count": null,
   "id": "76d0828b",
   "metadata": {},
   "outputs": [],
   "source": [
    "#二维平面可视化\n",
    "import seaborn as sns\n",
    "marker_list = ['.', ',', 'o', 'v', '^', '<', '>', '1', '2', '3', '4', '8', 's', 'p', 'P', '*', 'h', 'H', '+', 'x', 'X', 'D', 'd', '|', '_', 0, 1, 2, 3, 4, 5, 6, 7, 8, 9, 10, 11]\n",
    "class_list = np.array([0,1] ,dtype='float32')\n",
    "class_list"
   ]
  },
  {
   "cell_type": "code",
   "execution_count": null,
   "id": "bfd4c747",
   "metadata": {},
   "outputs": [],
   "source": [
    "n_class = len(class_list) # 测试集标签类别数\n",
    "palette = sns.hls_palette(n_class) # 配色方案\n",
    "sns.palplot(palette)"
   ]
  },
  {
   "cell_type": "code",
   "execution_count": null,
   "id": "00efd5d7",
   "metadata": {},
   "outputs": [],
   "source": [
    "plt.figure(figsize=(8, 5))\n",
    "for idx, typee in enumerate(class_list): # 遍历每个类别\n",
    "    # 获取颜色和点型\n",
    "    color = palette[idx]\n",
    "    marker = marker_list[idx%len(marker_list)]\n",
    "\n",
    "    # 找到所有标注类别为当前类别的图像索引号\n",
    "    indices = np.where(ll_in==typee)\n",
    "    plt.scatter(X_tsne_2d[indices, 0], X_tsne_2d[indices, 1], color=color, marker=marker, label='label:'+str(typee), s=10)\n",
    "\n",
    "plt.legend(fontsize=13, markerscale=2, bbox_to_anchor=(1, 1))#2倍原图例大小，右上角\n",
    "plt.xticks([])\n",
    "plt.yticks([])\n",
    "plt.savefig('多维语义特征t-SNE二维降维可视化.pdf', dpi=300) # 保存图像\n",
    "plt.show()"
   ]
  },
  {
   "cell_type": "code",
   "execution_count": null,
   "id": "4f5a5bfc",
   "metadata": {},
   "outputs": [],
   "source": [
    "#二维交互可视化\n",
    "import plotly.express as px\n",
    "df_2d = pd.DataFrame()\n",
    "df_2d['X'] = list(X_tsne_2d[:, 0].squeeze())\n",
    "df_2d['Y'] = list(X_tsne_2d[:, 1].squeeze())\n",
    "df_2d['标注类别名称'] = ll_in\n",
    "df_2d.to_csv('t-SNE-2D.csv', index=False)"
   ]
  },
  {
   "cell_type": "code",
   "execution_count": null,
   "id": "85272853",
   "metadata": {},
   "outputs": [],
   "source": [
    "df_2d"
   ]
  },
  {
   "cell_type": "code",
   "execution_count": null,
   "id": "fc92dadc",
   "metadata": {},
   "outputs": [],
   "source": [
    "fig = px.scatter(df_2d, \n",
    "                 x='X', \n",
    "                 y='Y',\n",
    "                 color='标注类别名称', \n",
    "                 labels='标注类别名称',\n",
    "                 symbol='标注类别名称', \n",
    "                 opacity=0.8,\n",
    "                 width=1000, \n",
    "                 height=600\n",
    "                )\n",
    "# 设置排版\n",
    "fig.update_layout(margin=dict(l=0, r=0, b=0, t=0))\n",
    "fig.show()\n",
    "fig.write_html('语义特征t-SNE二维降维plotly可视化.html')"
   ]
  },
  {
   "cell_type": "code",
   "execution_count": null,
   "id": "4c2fb370",
   "metadata": {},
   "outputs": [],
   "source": [
    "#三维\n",
    "from sklearn.manifold import TSNE\n",
    "tsne = TSNE(n_components=3, n_iter=10000)\n",
    "X_tsne_3d = tsne.fit_transform(tsne_in)\n",
    "print(X_tsne_3d.shape)"
   ]
  },
  {
   "cell_type": "code",
   "execution_count": null,
   "id": "3624e3e7",
   "metadata": {},
   "outputs": [],
   "source": [
    "#3维交互可视化\n",
    "df_3d = pd.DataFrame()\n",
    "df_3d['X'] = list(X_tsne_3d[:, 0].squeeze())\n",
    "df_3d['Y'] = list(X_tsne_3d[:, 1].squeeze())\n",
    "df_3d['Z'] = list(X_tsne_3d[:, 2].squeeze())\n",
    "df_3d['标注类别名称'] = ll_in\n",
    "# df_3d.to_csv('t-SNE-3D.csv', index=False)\n"
   ]
  },
  {
   "cell_type": "code",
   "execution_count": null,
   "id": "1adcea74",
   "metadata": {},
   "outputs": [],
   "source": [
    "df_3d"
   ]
  },
  {
   "cell_type": "code",
   "execution_count": null,
   "id": "e2cbb71c",
   "metadata": {},
   "outputs": [],
   "source": [
    "show_feature = '标注类别名称'"
   ]
  },
  {
   "cell_type": "code",
   "execution_count": null,
   "id": "fedcdd52",
   "metadata": {},
   "outputs": [],
   "source": [
    "\n",
    "import plotly.express as px\n",
    "fig = px.scatter_3d(df_3d, \n",
    "                    x='X', \n",
    "                    y='Y', \n",
    "                    z='Z',\n",
    "                    color='X', \n",
    "#                     labels=show_feature,\n",
    "#                     symbol=show_feature, \n",
    "                    opacity=0.6,\n",
    "                    width=800, \n",
    "                    height=580)\n",
    "\n",
    "# 设置排版\n",
    "fig.update_layout(margin=dict(l=0, r=0, b=0, t=0))\n",
    "fig.show()\n",
    "fig.write_html('语义特征t-SNE三维降维plotly可视化.html')"
   ]
  },
  {
   "cell_type": "code",
   "execution_count": null,
   "id": "7615a348",
   "metadata": {},
   "outputs": [],
   "source": []
  }
 ],
 "metadata": {
  "kernelspec": {
   "display_name": "Python 3 (ipykernel)",
   "language": "python",
   "name": "python3"
  },
  "language_info": {
   "codemirror_mode": {
    "name": "ipython",
    "version": 3
   },
   "file_extension": ".py",
   "mimetype": "text/x-python",
   "name": "python",
   "nbconvert_exporter": "python",
   "pygments_lexer": "ipython3",
   "version": "3.10.9"
  }
 },
 "nbformat": 4,
 "nbformat_minor": 5
}
